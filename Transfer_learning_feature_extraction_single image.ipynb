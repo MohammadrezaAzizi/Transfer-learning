{
  "nbformat": 4,
  "nbformat_minor": 0,
  "metadata": {
    "colab": {
      "name": "Transfer learning feature extraction_Mohammadreza Azizi.ipynb",
      "provenance": []
    },
    "kernelspec": {
      "name": "python3",
      "display_name": "Python 3"
    },
    "language_info": {
      "name": "python"
    }
  },
  "cells": [
    {
      "cell_type": "code",
      "source": [
        "from keras.applications.vgg19 import VGG19\n",
        "from keras.preprocessing import image\n",
        "from keras.applications.vgg19 import preprocess_input\n",
        "from keras.models import Model\n",
        "import numpy as np\n",
        "\n",
        "# define the CNN network\n",
        "# Here we are using 19 layer CNN -VGG19 and initialising it\n",
        "# with pretrained imagenet weights\n",
        "base_model = VGG19(weights='imagenet')\n",
        "\n",
        "# Extract features from an arbitrary intermediate layer\n",
        "# like the block4 pooling layer in VGG19\n",
        "model = Model(inputs=base_model.input, outputs=base_model.get_layer('block4_pool').output)\n",
        "\n",
        "# load an image and preprocess it\n",
        "img_path = '/content/download.jpg'\n",
        "img = image.load_img(img_path, target_size=(224, 224))\n",
        "x = image.img_to_array(img)\n",
        "x = np.expand_dims(x, axis=0)\n",
        "x = preprocess_input(x)\n",
        "\n",
        "# get the features \n",
        "block4_pool_features = model.predict(x)\n"
      ],
      "metadata": {
        "colab": {
          "base_uri": "https://localhost:8080/"
        },
        "id": "eMOI95J1i0FO",
        "outputId": "36165e6c-4334-49a5-84f6-fa56c3daba76"
      },
      "execution_count": 57,
      "outputs": [
        {
          "output_type": "stream",
          "name": "stdout",
          "text": [
            "Downloading data from https://storage.googleapis.com/tensorflow/keras-applications/vgg19/vgg19_weights_tf_dim_ordering_tf_kernels.h5\n",
            "574717952/574710816 [==============================] - 3s 0us/step\n",
            "574726144/574710816 [==============================] - 3s 0us/step\n"
          ]
        }
      ]
    },
    {
      "cell_type": "code",
      "source": [
        "block4_pool_features"
      ],
      "metadata": {
        "colab": {
          "base_uri": "https://localhost:8080/"
        },
        "id": "893tGxI9tbCu",
        "outputId": "43f2a368-2b05-4f44-ed3c-189157b7c59d"
      },
      "execution_count": 58,
      "outputs": [
        {
          "output_type": "execute_result",
          "data": {
            "text/plain": [
              "array([[[[  0.       , 429.38394  ,  24.95016  , ...,   0.       ,\n",
              "            0.       ,   0.       ],\n",
              "         [  0.       , 565.1015   ,   0.       , ...,   0.       ,\n",
              "            0.       ,   0.       ],\n",
              "         [  0.       , 717.5801   ,   0.       , ...,   0.       ,\n",
              "            0.       ,   0.       ],\n",
              "         ...,\n",
              "         [  0.       , 114.86542  ,   0.       , ...,  79.502075 ,\n",
              "            0.       ,   0.       ],\n",
              "         [  0.       ,  58.473793 ,   0.       , ..., 184.91647  ,\n",
              "            0.       ,   0.       ],\n",
              "         [ 95.993286 , 340.05115  ,   0.       , ...,   0.       ,\n",
              "            0.       ,   0.       ]],\n",
              "\n",
              "        [[  0.       ,   0.       ,   0.       , ...,   0.       ,\n",
              "            0.       ,   0.       ],\n",
              "         [  6.165915 ,   0.       ,   0.       , ...,   0.       ,\n",
              "            0.       ,   0.       ],\n",
              "         [  0.       ,   0.       ,   0.       , ...,   0.       ,\n",
              "            0.       ,   0.       ],\n",
              "         ...,\n",
              "         [  0.       ,   0.       ,   0.       , ...,   0.       ,\n",
              "            2.9379082,   0.       ],\n",
              "         [  0.       ,   0.       ,   0.       , ...,   0.       ,\n",
              "            0.       ,   0.       ],\n",
              "         [  0.       , 156.36409  ,   0.       , ...,   0.       ,\n",
              "            0.       ,   0.       ]],\n",
              "\n",
              "        [[ 48.2743   ,   0.       ,   0.       , ...,   0.       ,\n",
              "            0.       ,   0.       ],\n",
              "         [389.5788   ,   0.       ,   0.       , ...,   0.       ,\n",
              "            0.       ,   0.       ],\n",
              "         [353.64282  ,   0.       ,   0.       , ...,   0.       ,\n",
              "            0.       ,   0.       ],\n",
              "         ...,\n",
              "         [  0.       ,   0.       ,   0.       , ...,   0.       ,\n",
              "            0.       ,   0.       ],\n",
              "         [  0.       ,   0.       ,  43.886166 , ...,   0.       ,\n",
              "            0.       ,   0.       ],\n",
              "         [  0.       ,   0.       ,   0.       , ..., 649.4802   ,\n",
              "            0.       ,   0.       ]],\n",
              "\n",
              "        ...,\n",
              "\n",
              "        [[  0.       ,   0.       ,   0.       , ...,   0.       ,\n",
              "          101.91617  , 154.52834  ],\n",
              "         [363.82874  ,   0.       ,   0.       , ...,   0.       ,\n",
              "           50.042435 ,   0.       ],\n",
              "         [  7.432013 ,   0.       ,   0.       , ...,   0.       ,\n",
              "            0.       ,   0.       ],\n",
              "         ...,\n",
              "         [  0.       ,   0.       ,   0.       , ...,   0.       ,\n",
              "            0.       ,   0.       ],\n",
              "         [  0.       ,   0.       ,   0.       , ...,  61.114418 ,\n",
              "            0.       , 271.9858   ],\n",
              "         [109.12955  ,   0.       ,   0.       , ...,   0.       ,\n",
              "          229.97722  , 193.82414  ]],\n",
              "\n",
              "        [[  0.       ,   0.       ,   0.       , ..., 229.06256  ,\n",
              "            0.       ,   0.       ],\n",
              "         [  0.       ,   0.       ,   0.       , ..., 663.0542   ,\n",
              "          375.01373  ,   0.       ],\n",
              "         [  0.       ,   0.       ,   0.       , ..., 209.93607  ,\n",
              "          404.52087  ,   0.       ],\n",
              "         ...,\n",
              "         [  0.       ,   0.       ,   0.       , ...,   0.       ,\n",
              "          244.61447  , 299.7901   ],\n",
              "         [  0.       ,   0.       ,   0.       , ..., 281.32257  ,\n",
              "          370.26505  , 731.8491   ],\n",
              "         [ 77.77566  ,   0.       ,   0.       , ...,   0.       ,\n",
              "           35.144024 , 718.18695  ]],\n",
              "\n",
              "        [[  0.       ,   0.       ,   0.       , ..., 573.8245   ,\n",
              "           25.990229 , 864.0308   ],\n",
              "         [  0.       ,   0.       ,   0.       , ..., 879.0263   ,\n",
              "          356.88412  , 908.78986  ],\n",
              "         [  0.       ,   0.       ,   0.       , ..., 771.932    ,\n",
              "          265.65427  , 429.3034   ],\n",
              "         ...,\n",
              "         [  0.       ,   0.       ,   0.       , ..., 451.61646  ,\n",
              "          373.414    , 379.2972   ],\n",
              "         [  0.       ,   0.       ,   0.       , ..., 819.57916  ,\n",
              "          497.22583  , 651.77905  ],\n",
              "         [123.85905  ,   0.       ,   0.       , ..., 133.48878  ,\n",
              "          306.96866  , 963.3475   ]]]], dtype=float32)"
            ]
          },
          "metadata": {},
          "execution_count": 58
        }
      ]
    }
  ]
}